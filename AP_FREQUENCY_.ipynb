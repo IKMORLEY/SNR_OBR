{
 "cells": [
  {
   "cell_type": "markdown",
   "metadata": {},
   "source": [
    "# Imports"
   ]
  },
  {
   "cell_type": "code",
   "execution_count": 67,
   "metadata": {},
   "outputs": [],
   "source": [
    "import pyabf\n",
    "import numpy as np\n",
    "import matplotlib.pyplot as plt\n",
    "from scipy import signal\n",
    "import csv\n"
   ]
  },
  {
   "cell_type": "markdown",
   "metadata": {},
   "source": [
    "# Set Paths"
   ]
  },
  {
   "cell_type": "code",
   "execution_count": 68,
   "metadata": {},
   "outputs": [],
   "source": [
    "# Define the project path and a list of 5 ABF file names\n",
    "project_path = 'C:\\\\Users\\\\ikmor\\\\OneDrive\\\\Documents\\\\SNR AND OBR pilot study\\\\'\n",
    "abf_files = [\n",
    "    f'{project_path}PTX10 CNQX A3.abf',\n",
    "    f'{project_path}PTX8R3 ACCIN.abf',\n",
    "    f'{project_path}PTX7L2 ACCOM.abf',\n",
    "    f'{project_path}PTX09R5 ACCOM3.abf',\n",
    "    f'{project_path}PTX6L2 ACCOM.abf',\n",
    "    f'{project_path}CNQX1L3 A3.abf'\n",
    "    ]\n",
    "\n",
    "\n"
   ]
  },
  {
   "cell_type": "code",
   "execution_count": 69,
   "metadata": {},
   "outputs": [
    {
     "name": "stdout",
     "output_type": "stream",
     "text": [
      "Results with standard errors have been saved to C:\\Users\\ikmor\\OneDrive\\Documents\\SNR AND OBR pilot study\\average_ap_counts_with_errors.csv\n"
     ]
    }
   ],
   "source": [
    "# Initialize a 2D list to store action potential counts for each sweep across all files\n",
    "sweep_ap_counts = [[] for _ in range(10)]  # 7 sweeps\n",
    "\n",
    "LJP = 13  # Liquid Junction Potential in mV\n",
    "\n",
    "# Loop through each ABF file\n",
    "for abf_file in abf_files:\n",
    "    # Load the ABF file\n",
    "    abf = pyabf.ABF(abf_file)\n",
    "    \n",
    "    # Define sweep numbers\n",
    "    sweep_numbers = range(10)  # 7 sweeps\n",
    "\n",
    "    # Loop through each sweep\n",
    "    for sweep in sweep_numbers:\n",
    "        abf.setSweep(sweep, channel=0)\n",
    "        \n",
    "        # Define the time segment for analysis (in seconds)\n",
    "        start_time = 2.5  # Start time in seconds\n",
    "        end_time = 7.5    # End time in seconds\n",
    "\n",
    "        # Extract voltage (sweepY) and time (sweepX)\n",
    "        voltage = abf.sweepY - LJP  # Voltage in mV\n",
    "        times = abf.sweepX    # Time in seconds\n",
    "\n",
    "        # Find indices corresponding to the desired time segment\n",
    "        start_index = np.argmin(np.abs(times - start_time))\n",
    "        end_index = np.argmin(np.abs(times - end_time))\n",
    "\n",
    "        # Extract the specific portion of the data for analysis\n",
    "        segment_voltage = voltage[start_index:end_index]\n",
    "\n",
    "        # Count the number of times the waveform crosses 0mV\n",
    "        zero_crossings = np.sum(np.diff(np.sign(segment_voltage)) != 0)\n",
    "        \n",
    "        # Calculate the number of action potentials (half of zero crossings)\n",
    "        ap_count = zero_crossings // 2\n",
    "\n",
    "        # Store the AP count for this sweep in the corresponding list\n",
    "        sweep_ap_counts[sweep].append(ap_count)\n",
    "\n",
    "# Calculate average AP counts for each sweep\n",
    "average_ap_counts = [np.mean(counts) for counts in sweep_ap_counts]\n",
    "\n",
    "# Calculate standard error for each sweep\n",
    "standard_errors = [np.std(counts, ddof=1) / np.sqrt(len(counts)) if len(counts) > 1 else 0 for counts in sweep_ap_counts]\n",
    "\n",
    "# Output results to CSV\n",
    "output_file = f'{project_path}average_ap_counts_with_errors.csv'\n",
    "with open(output_file, 'w', newline='') as csvfile:\n",
    "    writer = csv.writer(csvfile)\n",
    "    writer.writerow(['Sweep', 'Average Action Potentials', 'Standard Error'])\n",
    "    for sweep, (avg_count, std_err) in enumerate(zip(average_ap_counts, standard_errors)):\n",
    "        writer.writerow([sweep + 1, avg_count, std_err])\n",
    "\n",
    "print(f\"Results with standard errors have been saved to {output_file}\")"
   ]
  }
 ],
 "metadata": {
  "kernelspec": {
   "display_name": "base",
   "language": "python",
   "name": "python3"
  },
  "language_info": {
   "codemirror_mode": {
    "name": "ipython",
    "version": 3
   },
   "file_extension": ".py",
   "mimetype": "text/x-python",
   "name": "python",
   "nbconvert_exporter": "python",
   "pygments_lexer": "ipython3",
   "version": "3.12.7"
  }
 },
 "nbformat": 4,
 "nbformat_minor": 2
}

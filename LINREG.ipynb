{
 "cells": [
  {
   "cell_type": "code",
   "execution_count": 8,
   "metadata": {},
   "outputs": [
    {
     "name": "stdout",
     "output_type": "stream",
     "text": [
      "R value: 0.7909217941812419\n",
      "Coefficients of determination (R^2) for each variable: [0.5655796594731353, 0.0017782741292076132]\n"
     ]
    }
   ],
   "source": [
    "import numpy as np\n",
    "from sklearn.linear_model import LinearRegression\n",
    "from sklearn.metrics import r2_score\n",
    "\n",
    "# Example usage\n",
    "a = [18,\t12.33,\t8,\t30,\t2.67,\t8.33,\t8.33,\t2.33,\t11]\n",
    "b = [0.52,\t0.42,\t0.58,\t0.59,\t0.93,\t0.45,\t0.55,\t0.54,\t0.58]\n",
    "# d = [10, 11, 12]\n",
    "c = [0.0377,\t0.0228,\t0.0286,\t0.121,\t0.0366,\t0.0523,\t0.0661,\t0.0191,\t0.0654]\n",
    "#c\n",
    "\n",
    "def linear_regression(*args):\n",
    "    # Convert input arguments to numpy arrays\n",
    "    arrays = [np.array(arg) for arg in args]\n",
    "    \n",
    "    # The last array is the dependent variable\n",
    "    y = arrays[-1]\n",
    "    \n",
    "    # All other arrays are independent variables\n",
    "    X = np.column_stack(arrays[:-1])\n",
    "    \n",
    "    # Perform linear regression\n",
    "    model = LinearRegression()\n",
    "    model.fit(X, y)\n",
    "    \n",
    "    # Calculate R value (multiple correlation coefficient)\n",
    "    r_value = np.sqrt(model.score(X, y))\n",
    "    \n",
    "    # Calculate coefficient of determination (R^2) for each variable\n",
    "    r2_values = []\n",
    "    for i in range(X.shape[1]):\n",
    "        X_single = X[:, i].reshape(-1, 1)\n",
    "        model_single = LinearRegression().fit(X_single, y)\n",
    "        r2 = r2_score(y, model_single.predict(X_single))\n",
    "        r2_values.append(r2)\n",
    "    \n",
    "    return r_value, r2_values\n",
    "\n",
    "\n",
    "r_value, r2_values = linear_regression(a, b, c)\n",
    "\n",
    "print(f\"R value: {r_value}\")\n",
    "print(f\"Coefficients of determination (R^2) for each variable: {r2_values}\")"
   ]
  }
 ],
 "metadata": {
  "kernelspec": {
   "display_name": "base",
   "language": "python",
   "name": "python3"
  },
  "language_info": {
   "codemirror_mode": {
    "name": "ipython",
    "version": 3
   },
   "file_extension": ".py",
   "mimetype": "text/x-python",
   "name": "python",
   "nbconvert_exporter": "python",
   "pygments_lexer": "ipython3",
   "version": "3.12.7"
  }
 },
 "nbformat": 4,
 "nbformat_minor": 2
}

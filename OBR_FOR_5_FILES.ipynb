{
 "cells": [
  {
   "cell_type": "markdown",
   "metadata": {},
   "source": [
    "# Imports"
   ]
  },
  {
   "cell_type": "code",
   "execution_count": 37,
   "metadata": {},
   "outputs": [],
   "source": [
    "import pyabf\n",
    "import numpy as np\n",
    "import matplotlib.pyplot as plt\n",
    "from scipy import signal\n"
   ]
  },
  {
   "cell_type": "markdown",
   "metadata": {},
   "source": [
    "# Set Paths"
   ]
  },
  {
   "cell_type": "code",
   "execution_count": 38,
   "metadata": {},
   "outputs": [],
   "source": [
    "# Define the project path and a list of 5 ABF file names\n",
    "project_path = 'C:\\\\Users\\\\ikmor\\\\OneDrive\\\\Documents\\\\SNR AND OBR pilot study\\\\'"
   ]
  },
  {
   "cell_type": "markdown",
   "metadata": {},
   "source": [
    "# Load Data"
   ]
  },
  {
   "cell_type": "code",
   "execution_count": 39,
   "metadata": {},
   "outputs": [],
   "source": [
    "\n",
    "abf_files = [\n",
    "    f'{project_path}PTX09R5 ACCOM1.abf',\n",
    "    f'{project_path}PTX09R5 ACCOM2.abf',\n",
    "    f'{project_path}PTX09R5 ACCOM3.abf',\n",
    "    f'{project_path}PTX09R5 ACCOM4.abf',\n",
    "    f'{project_path}PTX09R5 ACCOM5.abf'\n",
    "]\n",
    "\n"
   ]
  },
  {
   "cell_type": "code",
   "execution_count": null,
   "metadata": {},
   "outputs": [
    {
     "name": "stdout",
     "output_type": "stream",
     "text": [
      "Average total power for sweep 0: 9.623003e-01 yoctoWatt\n",
      "Average total power for sweep 1: 9.675156e-01 yoctoWatt\n",
      "Average total power for sweep 3: 9.640149e-01 yoctoWatt\n",
      "Average total power for sweep 4: 9.651447e-01 yoctoWatt\n",
      "Average total power for sweep 5: 9.686868e-01 yoctoWatt\n",
      "Average total power for sweep 6: 9.538383e-01 yoctoWatt\n",
      "Average total power for sweep 7: 9.704044e-01 yoctoWatt\n",
      "Average total power for sweep 8: 9.745984e-01 yoctoWatt\n",
      "Average total power for sweep 9: 9.776388e-01 yoctoWatt\n",
      "\n",
      "Average of the average total power across all files: 9.671269e-01 yoctoWatt\n"
     ]
    }
   ],
   "source": [
    "import numpy as np\n",
    "import pyabf\n",
    "from scipy import signal\n",
    "\n",
    "# Set the desired sweep and channel\n",
    "sweep_numbers = [0, 1, 3, 4, 5, 6, 7, 8, 9]\n",
    "\n",
    "# Input resistance (MegaOhms) - you can change this value as needed\n",
    "input_resistance_MOhm = float(input(\"Enter the input resistance in MegaOhms: \"))\n",
    "input_resistance = input_resistance_MOhm * 1e6  # Convert MegaOhms to Ohms\n",
    "\n",
    "LJP = 13  # Liquid Junction Potential in mV\n",
    "\n",
    "# Initialize dictionaries to store total power for each sweep and file\n",
    "total_power_per_sweep = {sweep: [] for sweep in sweep_numbers}\n",
    "average_total_power_per_file = []\n",
    "\n",
    "for abf_file in abf_files:\n",
    "    abf = pyabf.ABF(abf_file)\n",
    "    file_total_power = []\n",
    "    \n",
    "    for sweep in sweep_numbers:\n",
    "        abf.setSweep(sweep, channel=0)\n",
    "        # Define the time segment for analysis (in seconds)\n",
    "        start_time = 0.1  # Start time in seconds\n",
    "        end_time = 3.0    # End time in seconds\n",
    "\n",
    "        # Extract voltage (sweepY) and time (sweepX)\n",
    "        voltage = abf.sweepY - LJP  # Voltage in mV\n",
    "        times = abf.sweepX    # Time in seconds\n",
    "\n",
    "        # Find indices corresponding to the desired time segment\n",
    "        start_index = np.argmin(np.abs(times - start_time))\n",
    "        end_index = np.argmin(np.abs(times - end_time))\n",
    "\n",
    "        # Extract the specific portion of the data for analysis\n",
    "        segment_times = times[start_index:end_index]\n",
    "        segment_voltage = voltage[start_index:end_index]\n",
    "\n",
    "        # Convert voltage from mV to V for power calculation\n",
    "        segment_voltage_V = segment_voltage * 1e-3\n",
    "\n",
    "        # Calculate instantaneous power using input resistance: P = V^2 / R\n",
    "        instantaneous_power = (segment_voltage_V ** 2) / input_resistance\n",
    "        \n",
    "        # Calculate the Power Spectral Density (PSD) of the instantaneous power using Welch's method with zero padding\n",
    "        fs = abf.dataRate  # Sampling frequency from ABF file\n",
    "        segment_length_ms = 50  # Optimal segment length in milliseconds\n",
    "        nperseg = int(fs * segment_length_ms / 1000)\n",
    "        noverlap = nperseg // 2  # 50% overlap\n",
    "\n",
    "        # Ensure nperseg is an even number for efficient FFT\n",
    "        nperseg = nperseg + (nperseg % 2)\n",
    "\n",
    "        # Zero padding\n",
    "        nfft = 320000  # Increase FFT size such that frequency resolution is 0.05Hz\n",
    "\n",
    "        # Apply Welch's method with zero padding\n",
    "        f, Pxx = signal.welch(instantaneous_power, fs=fs, window='hann', nperseg=nperseg, noverlap=noverlap, nfft=nfft, scaling='density')\n",
    "\n",
    "        # Calculate total power excluding frequencies below 0.1 Hz\n",
    "        freq_mask = (f >= 0.1) & (f <= 10000)\n",
    "        average_power_above_0_1Hz = np.trapz(Pxx[freq_mask], f[freq_mask])  # Integrate PSD above 0.1 Hz\n",
    "\n",
    "        # Calculate the duration of the sweep\n",
    "        sweep_duration = end_time - start_time\n",
    "\n",
    "        # Calculate total power by multiplying average power by the duration\n",
    "        total_power_above_0_1Hz = average_power_above_0_1Hz * sweep_duration * 1e24  # Convert to yoctoWatt\n",
    "\n",
    "        # Add the total power for this sweep to the list\n",
    "        total_power_per_sweep[sweep].append(total_power_above_0_1Hz)\n",
    "        file_total_power.append(total_power_above_0_1Hz)\n",
    "    \n",
    "    # Calculate average total power for this file\n",
    "    average_total_power_per_file.append(np.mean(file_total_power))\n",
    "\n",
    "# Calculate average total power for each sweep across all files\n",
    "average_total_power_per_sweep = {sweep: np.mean(powers) for sweep, powers in total_power_per_sweep.items()}\n",
    "\n",
    "# Calculate the average of the average total power across all files\n",
    "overall_average_total_power = np.mean(average_total_power_per_file)\n",
    "\n",
    "# Print results\n",
    "for sweep in sweep_numbers:\n",
    "    print(f\"Average total power for sweep {sweep}: {average_total_power_per_sweep[sweep]:.6e} yoctoWatt\")\n",
    "\n",
    "print(f\"\\nAverage of the average total power across all files: {overall_average_total_power:.6e} yoctoWatt\")"
   ]
  }
 ],
 "metadata": {
  "kernelspec": {
   "display_name": "base",
   "language": "python",
   "name": "python3"
  },
  "language_info": {
   "codemirror_mode": {
    "name": "ipython",
    "version": 3
   },
   "file_extension": ".py",
   "mimetype": "text/x-python",
   "name": "python",
   "nbconvert_exporter": "python",
   "pygments_lexer": "ipython3",
   "version": "3.12.7"
  }
 },
 "nbformat": 4,
 "nbformat_minor": 2
}

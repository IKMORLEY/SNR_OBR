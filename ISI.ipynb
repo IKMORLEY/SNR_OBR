{
 "cells": [
  {
   "cell_type": "code",
   "execution_count": 1,
   "metadata": {},
   "outputs": [
    {
     "name": "stdout",
     "output_type": "stream",
     "text": [
      "Results with standard errors have been saved to C:\\Users\\ikmor\\OneDrive\\Documents\\SNR AND OBR pilot study\\average_peak_intervals_with_errors.csv\n"
     ]
    },
    {
     "name": "stderr",
     "output_type": "stream",
     "text": [
      "C:\\Users\\ikmor\\AppData\\Local\\Temp\\ipykernel_14476\\2315623866.py:64: RuntimeWarning: Mean of empty slice\n",
      "  average_peak_intervals = [np.nanmean(intervals) for intervals in sweep_peak_intervals]\n"
     ]
    }
   ],
   "source": [
    "import pyabf\n",
    "import numpy as np\n",
    "from scipy import signal\n",
    "import csv\n",
    "\n",
    "# Define the project path and a list of 5 ABF file names\n",
    "project_path = 'C:\\\\Users\\\\ikmor\\\\OneDrive\\\\Documents\\\\SNR AND OBR pilot study\\\\'\n",
    "abf_files = [\n",
    "    f'{project_path}PTX10 CNQX A3.abf',\n",
    "    f'{project_path}PTX8R3 ACCIN.abf',\n",
    "    f'{project_path}PTX7L2 ACCOM.abf',\n",
    "    f'{project_path}PTX09R5 ACCOM3.abf',\n",
    "    f'{project_path}PTX6L2 ACCOM.abf',\n",
    "    f'{project_path}CNQX1L3 A3.abf'\n",
    "]\n",
    "\n",
    "# Initialize a 2D list to store average time between peaks for each sweep across all files\n",
    "sweep_peak_intervals = [[] for _ in range(10)]  # 10 sweeps\n",
    "\n",
    "LJP = 13  # Liquid Junction Potential in mV\n",
    "\n",
    "# Loop through each ABF file\n",
    "for abf_file in abf_files:\n",
    "    # Load the ABF file\n",
    "    abf = pyabf.ABF(abf_file)\n",
    "    \n",
    "    # Define sweep numbers\n",
    "    sweep_numbers = range(10)  # 10 sweeps\n",
    "\n",
    "    # Loop through each sweep\n",
    "    for sweep in sweep_numbers:\n",
    "        abf.setSweep(sweep, channel=0)\n",
    "        \n",
    "        # Define the time segment for analysis (in seconds)\n",
    "        start_time = 2.5  # Start time in seconds\n",
    "        end_time = 7.5    # End time in seconds\n",
    "\n",
    "        # Extract voltage (sweepY) and time (sweepX)\n",
    "        voltage = abf.sweepY - LJP  # Voltage in mV\n",
    "        times = abf.sweepX    # Time in seconds\n",
    "\n",
    "        # Find indices corresponding to the desired time segment\n",
    "        start_index = np.argmin(np.abs(times - start_time))\n",
    "        end_index = np.argmin(np.abs(times - end_time))\n",
    "\n",
    "        # Extract the specific portion of the data for analysis\n",
    "        segment_voltage = voltage[start_index:end_index]\n",
    "        segment_times = times[start_index:end_index]\n",
    "\n",
    "        # Find local peaks above 0mV\n",
    "        peaks, _ = signal.find_peaks(segment_voltage, height=0)\n",
    "\n",
    "        # Calculate time intervals between consecutive peaks\n",
    "        if len(peaks) > 1:\n",
    "            peak_intervals = np.diff(segment_times[peaks])\n",
    "            average_interval = np.mean(peak_intervals)\n",
    "        else:\n",
    "            average_interval = np.nan  # Not enough peaks to calculate intervals\n",
    "\n",
    "        # Store the average interval for this sweep\n",
    "        sweep_peak_intervals[sweep].append(average_interval)\n",
    "\n",
    "# Calculate average time intervals for each sweep\n",
    "average_peak_intervals = [np.nanmean(intervals) for intervals in sweep_peak_intervals]\n",
    "\n",
    "# Calculate standard error for each sweep\n",
    "standard_errors = [\n",
    "    np.nanstd(intervals, ddof=1) / np.sqrt(np.sum(~np.isnan(intervals))) if np.sum(~np.isnan(intervals)) > 1 else np.nan \n",
    "    for intervals in sweep_peak_intervals\n",
    "]\n",
    "\n",
    "# Output results to CSV\n",
    "output_file = f'{project_path}average_peak_intervals_with_errors.csv'\n",
    "with open(output_file, 'w', newline='') as csvfile:\n",
    "    writer = csv.writer(csvfile)\n",
    "    writer.writerow(['Sweep', 'Average Time Between Peaks (s)', 'Standard Error'])\n",
    "    for sweep, (avg_interval, std_err) in enumerate(zip(average_peak_intervals, standard_errors)):\n",
    "        writer.writerow([sweep + 1, avg_interval, std_err])\n",
    "\n",
    "print(f\"Results with standard errors have been saved to {output_file}\")"
   ]
  }
 ],
 "metadata": {
  "kernelspec": {
   "display_name": "base",
   "language": "python",
   "name": "python3"
  },
  "language_info": {
   "codemirror_mode": {
    "name": "ipython",
    "version": 3
   },
   "file_extension": ".py",
   "mimetype": "text/x-python",
   "name": "python",
   "nbconvert_exporter": "python",
   "pygments_lexer": "ipython3",
   "version": "3.12.7"
  }
 },
 "nbformat": 4,
 "nbformat_minor": 2
}
